{
 "cells": [
  {
   "cell_type": "code",
   "execution_count": 10,
   "id": "74f7206b-0f97-40ec-9b36-160b8779dd43",
   "metadata": {},
   "outputs": [],
   "source": [
    "import numpy as np\n",
    "import matplotlib.pyplot as plt\n",
    "%matplotlib inline"
   ]
  },
  {
   "cell_type": "markdown",
   "id": "afbc2e35-133d-46de-a698-8f3f76222dfd",
   "metadata": {},
   "source": [
    "\n",
    "```python\n",
    "import keras\n",
    "```\n",
    "\n",
    "- `keras` : C'est une bibliothèque d'apprentissage automatique de haut niveau qui offre une interface conviviale pour la création de modèles de réseaux de neurones. Cependant, à partir de TensorFlow 2.0, Keras a été intégré en tant qu'API de haut niveau dans TensorFlow, ce qui signifie que vous pouvez également utiliser les fonctionnalités de Keras directement à partir de TensorFlow. Vous pouvez créer des modèles de réseaux de neurones en utilisant la classe `Sequential` ou `Model` de Keras.\n",
    "\n",
    "```python\n",
    "import tensorflow as tf\n",
    "from tensorflow import keras\n",
    "```\n",
    "\n",
    "- `tf` : `tf` est un alias couramment utilisé pour `tensorflow`. Il est utilisé pour rendre les appels à TensorFlow plus concis.\n",
    "\n",
    "- `keras` : Cette importation est nécessaire pour utiliser les fonctionnalités de Keras directement à partir de TensorFlow.\n",
    "\n",
    "```python\n",
    "from keras.models import Sequential\n",
    "```\n",
    "\n",
    "- `Sequential` : C'est une classe de Keras qui permet de créer un modèle de réseau de neurones en empilant des couches de manière séquentielle. Par exemple, `model = Sequential()` crée un modèle vide auquel vous pouvez ajouter des couches.\n",
    "\n",
    "```python\n",
    "from tensorflow.keras.layers import Input, Conv2D, Dense, Flatten, Dropout\n",
    "```\n",
    "\n",
    "- `Input` : Cette classe de couche de Keras permet de définir une couche d'entrée pour le modèle.\n",
    "\n",
    "- `Conv2D` : Cette classe de couche de Keras représente une couche de convolution 2D, couramment utilisée dans les réseaux de neurones convolutifs (CNN).\n",
    "\n",
    "- `Dense` : Cette classe de couche de Keras représente une couche dense (complètement connectée), couramment utilisée dans les réseaux de neurones.\n",
    "\n",
    "- `Flatten` : Cette classe de couche de Keras est utilisée pour aplatir les données, généralement avant une couche dense.\n",
    "\n",
    "- `Dropout` : Cette classe de couche de Keras permet d'appliquer une régularisation de type dropout, ce qui peut aider à prévenir le surajustement du modèle.\n",
    "\n",
    "```python\n",
    "from tensorflow.keras.layers import GlobalMaxPooling2D, MaxPooling2D\n",
    "```\n",
    "\n",
    "- `GlobalMaxPooling2D` : Cette classe de couche de Keras permet de réaliser un pooling global maximum sur une carte de caractéristiques 2D.\n",
    "\n",
    "- `MaxPooling2D` : Cette classe de couche de Keras représente une couche de pooling maximum 2D, couramment utilisée pour réduire la dimension des cartes de caractéristiques dans un CNN.\n",
    "\n",
    "```python\n",
    "from tensorflow.keras.layers import BatchNormalization\n",
    "```\n",
    "\n",
    "- `BatchNormalization` : Cette classe de couche de Keras est utilisée pour la normalisation par lots, ce qui améliore la stabilité et l'entraînement des réseaux de neurones.\n",
    "\n",
    "```python\n",
    "from tensorflow.keras.models import Model\n",
    "```\n",
    "\n",
    "- `Model` : Cette classe de Keras permet de créer des modèles de réseaux de neurones plus complexes que ceux basés sur la classe `Sequential`. Elle est couramment utilisée pour créer des modèles avec plusieurs entrées ou sorties.\n",
    "\n",
    "```python\n",
    "from tensorflow.keras import regularizers, optimizers\n",
    "```\n",
    "\n",
    "- `regularizers` : Ce module contient des régularisations que vous pouvez appliquer aux couches de votre modèle pour prévenir le surajustement.\n",
    "\n",
    "- `optimizers` : Ce module contient différents optimiseurs que vous pouvez utiliser pour ajuster les poids de votre modèle pendant l'entraînement, tels que Adam, SGD, etc.\n",
    "\n",
    "```python\n",
    "from tensorflow.keras.utils import to_categorical\n",
    "```\n",
    "\n",
    "- `to_categorical` : Cette fonction permet de convertir des étiquettes de classe en encodage one-hot, ce qui est utile pour la classification multiclasse.\n",
    "\n",
    "Ces imports sont couramment utilisés dans la création de modèles de réseaux de neurones en utilisant TensorFlow et Keras. Ils fournissent les outils et les couches nécessaires pour construire et entraîner des modèles d'apprentissage automatique."
   ]
  },
  {
   "cell_type": "code",
   "execution_count": 11,
   "id": "ba3b7c75-4c7d-40ea-bf7f-bee4068b4d84",
   "metadata": {},
   "outputs": [],
   "source": [
    "import keras\n",
    "import tensorflow as tf\n",
    "from tensorflow import keras\n",
    "from keras.models import Sequential\n",
    "from tensorflow.keras.layers import Input, Conv2D, Dense, Flatten, Dropout\n",
    "from tensorflow.keras.layers import GlobalMaxPooling2D, MaxPooling2D\n",
    "from tensorflow.keras.layers import BatchNormalization\n",
    "from tensorflow.keras.models import Model\n",
    "from tensorflow.keras import regularizers, optimizers\n",
    "from tensorflow.keras.utils import to_categorical"
   ]
  },
  {
   "cell_type": "code",
   "execution_count": 14,
   "id": "433febdc-e8df-4c1b-a81f-9c64d2b800bb",
   "metadata": {},
   "outputs": [],
   "source": [
    "from sklearn.metrics import accuracy_score"
   ]
  },
  {
   "cell_type": "markdown",
   "id": "83db824f-1c86-4c99-af95-2b4964ebb4c6",
   "metadata": {},
   "source": [
    "# Description du dataset\n",
    "Le dataset CIFAR-10 (Canadian Institute For Advanced Research 10) est un ensemble de données couramment utilisé en vision par ordinateur pour des tâches de classification d'images. Il est largement utilisé pour évaluer et tester des algorithmes d'apprentissage automatique, en particulier des modèles de réseaux de neurones convolutionnels (CNN). Voici une description détaillée du dataset CIFAR-10 :\n",
    "\n",
    "- **Nombre de classes** : Le dataset CIFAR-10 contient un total de 10 classes d'objets différents. Chaque classe représente une catégorie d'objets distincte.\n",
    "\n",
    "- **Nombre d'images** : Il se compose de 60 000 images au total, réparties également entre les 10 classes. Chaque classe compte 6 000 images.\n",
    "\n",
    "- **Résolution des images** : Les images du CIFAR-10 ont une résolution de 32x32 pixels. Elles sont relativement petites par rapport à d'autres ensembles de données, ce qui les rend adaptées à des expériences rapides en apprentissage automatique.\n",
    "\n",
    "- **Classes** : Les 10 classes du CIFAR-10 sont les suivantes :\n",
    "  1. Avion\n",
    "  2. Automobile\n",
    "  3. Oiseau\n",
    "  4. Chat\n",
    "  5. Cerf\n",
    "  6. Chien\n",
    "  7. Grenouille\n",
    "  8. Cheval\n",
    "  9. Bateau\n",
    "  10. Camion\n",
    "\n",
    "- **Variabilité** : Les images de chaque classe présentent une grande variabilité en termes de pose, d'orientation, d'éclairage et de fond, ce qui en fait un défi intéressant pour la classification.\n",
    "\n",
    "- **Répartition des données** : Le dataset CIFAR-10 est divisé en deux sous-ensembles principaux : un ensemble d'entraînement (train) composé de 50 000 images et un ensemble de test (test) de 10 000 images. Les données d'entraînement sont utilisées pour entraîner les modèles, tandis que les données de test servent à évaluer la performance des modèles.\n",
    "\n",
    "- **Difficulté** : Le CIFAR-10 est considéré comme un ensemble de données de difficulté modérée en raison de la variabilité des images et du fait que certaines classes se ressemblent, ce qui peut compliquer la tâche de classification.\n",
    "\n",
    "Le dataset CIFAR-10 est un choix populaire pour l'apprentissage automatique en vision par ordinateur en raison de sa taille gérable, de la diversité des classes et de la possibilité de tester et de comparer différents modèles d'apprentissage profond. Il est souvent utilisé pour l'entraînement et l'évaluation de modèles CNN en raison de sa taille et de sa complexité appropriées pour des projets d'apprentissage automatique."
   ]
  },
  {
   "cell_type": "code",
   "execution_count": 15,
   "id": "c45715f5-f19e-4324-9099-0568cbe00085",
   "metadata": {},
   "outputs": [],
   "source": [
    "from tensorflow.keras.datasets import cifar10"
   ]
  },
  {
   "cell_type": "code",
   "execution_count": 16,
   "id": "5eeac9a0-3e7a-4722-887c-3bba4c419099",
   "metadata": {},
   "outputs": [
    {
     "name": "stdout",
     "output_type": "stream",
     "text": [
      "Downloading data from https://www.cs.toronto.edu/~kriz/cifar-10-python.tar.gz\n",
      "170498071/170498071 [==============================] - 125s 1us/step\n"
     ]
    }
   ],
   "source": [
    "(x_train,y_train),(x_test,y_test) = cifar10.load_data()"
   ]
  },
  {
   "cell_type": "markdown",
   "id": "19eab8e4-5d40-4f31-9805-ad5d5ae3e051",
   "metadata": {},
   "source": [
    "## observation des données"
   ]
  },
  {
   "cell_type": "code",
   "execution_count": 17,
   "id": "441b9ff3-f118-45af-9adb-70d3b9566757",
   "metadata": {},
   "outputs": [
    {
     "data": {
      "text/plain": [
       "<matplotlib.image.AxesImage at 0x7f6288146250>"
      ]
     },
     "execution_count": 17,
     "metadata": {},
     "output_type": "execute_result"
    },
    {
     "data": {
      "image/png": "[encoded data removed]",
      "text/plain": [
       "<Figure size 640x480 with 1 Axes>"
      ]
     },
     "metadata": {},
     "output_type": "display_data"
    }
   ],
   "source": [
    "plt.imshow(x_train[0])"
   ]
  },
  {
   "cell_type": "code",
   "execution_count": 19,
   "id": "d2f57f97-c5aa-402b-98b0-c1ce5d054998",
   "metadata": {},
   "outputs": [
    {
     "data": {
      "text/plain": [
       "<matplotlib.image.AxesImage at 0x7f62754a9700>"
      ]
     },
     "execution_count": 19,
     "metadata": {},
     "output_type": "execute_result"
    },
    {
     "data": {
      "image/png": "[encoded data removed]",
      "text/plain": [
       "<Figure size 640x480 with 1 Axes>"
      ]
     },
     "metadata": {},
     "output_type": "display_data"
    }
   ],
   "source": [
    "plt.imshow(x_train[5])"
   ]
  },
  {
   "cell_type": "code",
   "execution_count": 20,
   "id": "876efbf6-7d01-49c2-b5cc-197ec1dbe10f",
   "metadata": {},
   "outputs": [
    {
     "data": {
      "text/plain": [
       "array([[[ 59,  62,  63],\n",
       "        [ 43,  46,  45],\n",
       "        [ 50,  48,  43],\n",
       "        ...,\n",
       "        [158, 132, 108],\n",
       "        [152, 125, 102],\n",
       "        [148, 124, 103]],\n",
       "\n",
       "       [[ 16,  20,  20],\n",
       "        [  0,   0,   0],\n",
       "        [ 18,   8,   0],\n",
       "        ...,\n",
       "        [123,  88,  55],\n",
       "        [119,  83,  50],\n",
       "        [122,  87,  57]],\n",
       "\n",
       "       [[ 25,  24,  21],\n",
       "        [ 16,   7,   0],\n",
       "        [ 49,  27,   8],\n",
       "        ...,\n",
       "        [118,  84,  50],\n",
       "        [120,  84,  50],\n",
       "        [109,  73,  42]],\n",
       "\n",
       "       ...,\n",
       "\n",
       "       [[208, 170,  96],\n",
       "        [201, 153,  34],\n",
       "        [198, 161,  26],\n",
       "        ...,\n",
       "        [160, 133,  70],\n",
       "        [ 56,  31,   7],\n",
       "        [ 53,  34,  20]],\n",
       "\n",
       "       [[180, 139,  96],\n",
       "        [173, 123,  42],\n",
       "        [186, 144,  30],\n",
       "        ...,\n",
       "        [184, 148,  94],\n",
       "        [ 97,  62,  34],\n",
       "        [ 83,  53,  34]],\n",
       "\n",
       "       [[177, 144, 116],\n",
       "        [168, 129,  94],\n",
       "        [179, 142,  87],\n",
       "        ...,\n",
       "        [216, 184, 140],\n",
       "        [151, 118,  84],\n",
       "        [123,  92,  72]]], dtype=uint8)"
      ]
     },
     "execution_count": 20,
     "metadata": {},
     "output_type": "execute_result"
    }
   ],
   "source": [
    "x_train[0]"
   ]
  },
  {
   "cell_type": "markdown",
   "id": "338bb51a-b196-44b4-bcb2-769348853f1f",
   "metadata": {},
   "source": [
    "# Preprossing"
   ]
  },
  {
   "cell_type": "code",
   "execution_count": 21,
   "id": "9b766e38-d596-4149-a7b6-9b989548c646",
   "metadata": {},
   "outputs": [],
   "source": [
    "x_train = x_train/255\n",
    "x_test = x_test/255"
   ]
  },
  {
   "cell_type": "code",
   "execution_count": null,
   "id": "106ab5eb-946c-42e8-aa6a-6b28e76fed52",
   "metadata": {},
   "outputs": [],
   "source": [
    "y_train"
   ]
  },
  {
   "cell_type": "markdown",
   "id": "2ec4b11e-2f7f-4e10-948b-29b63fca4d20",
   "metadata": {},
   "source": [
    " `to_categorical(y_train, num_classes)` :\n",
    "   - Cette fonction provient de la bibliothèque Keras, en particulier de `keras.utils`.\n",
    "   - `y_train` : C'est la liste (ou tableau) des étiquettes de classe de l'ensemble d'entraînement.\n",
    "   - `num_classes` : Il s'agit du nombre total de classes dans votre problème de classification. Dans cet exemple, il est défini sur 10, ce qui signifie qu'il y a 10 classes différentes.\n",
    "   - La fonction `to_categorical` prend les étiquettes `y_train` et les convertit en encodage one-hot. Chaque étiquette est transformée en un vecteur binaire de longueur `num_classes`, où une seule valeur est définie à 1 (représentant la classe correcte) et toutes les autres valeurs sont définies à 0."
   ]
  },
  {
   "cell_type": "code",
   "execution_count": 23,
   "id": "5db80138-f293-4c66-a68a-60489f7e1c5d",
   "metadata": {},
   "outputs": [],
   "source": [
    "y_train_en = to_categorical(y_train,10)\n",
    "y_test_en = to_categorical(y_test,10)"
   ]
  },
  {
   "cell_type": "code",
   "execution_count": 24,
   "id": "46953fef-8d2b-4a1b-bd17-e35158e3dbfb",
   "metadata": {},
   "outputs": [
    {
     "data": {
      "text/plain": [
       "array([[0., 0., 0., ..., 0., 0., 0.],\n",
       "       [0., 0., 0., ..., 0., 0., 1.],\n",
       "       [0., 0., 0., ..., 0., 0., 1.],\n",
       "       ...,\n",
       "       [0., 0., 0., ..., 0., 0., 1.],\n",
       "       [0., 1., 0., ..., 0., 0., 0.],\n",
       "       [0., 1., 0., ..., 0., 0., 0.]], dtype=float32)"
      ]
     },
     "execution_count": 24,
     "metadata": {},
     "output_type": "execute_result"
    }
   ],
   "source": [
    "y_train_en"
   ]
  },
  {
   "cell_type": "markdown",
   "id": "dd5febb2-31ad-43a7-be52-47ba35a59766",
   "metadata": {},
   "source": [
    "# Model "
   ]
  },
  {
   "cell_type": "markdown",
   "id": "223da16e-e6f5-46ca-9f2e-fc89cb71e64f",
   "metadata": {},
   "source": [
    "\n",
    "\n",
    "1. `model = Sequential()` :\n",
    "   - Cette ligne crée un modèle de réseau de neurones en utilisant la classe `Sequential` de Keras.\n",
    "   - Un modèle séquentiel est un modèle de réseau de neurones qui permet de définir une séquence linéaire de couches. Chaque couche est ajoutée à la suite de la précédente.\n",
    "\n",
    "2. `model.add(Conv2D(32, (4, 4), input_shape=(32, 32, 3), activation='relu'))` :\n",
    "   - Cette ligne ajoute une couche de convolution 2D au modèle.\n",
    "   - `32` : Cela spécifie le nombre de filtres (ou noyaux) de la couche de convolution. Chaque filtre extrait des caractéristiques de l'image en appliquant des opérations de convolution.\n",
    "   - `(4, 4)` : Cela spécifie la taille du noyau de convolution (4x4).\n",
    "   - `input_shape=(32, 32, 3)` : Cela définit la forme de l'entrée attendue. Dans cet exemple, il s'agit d'images en couleur de 32x32 pixels, où chaque pixel a 3 canaux (rouge, vert, bleu).\n",
    "   - `activation='relu'` : C'est la fonction d'activation ReLU (Rectified Linear Unit) appliquée après la convolution. Elle est couramment utilisée pour introduire une non-linéarité dans le modèle.\n",
    "\n",
    "3. `model.add(MaxPooling2D(pool_size=(2, 2))` :\n",
    "   - Cette ligne ajoute une couche de pooling maximum 2D au modèle.\n",
    "   - `pool_size=(2, 2)` : Cela spécifie la taille de la fenêtre de pooling (2x2). Le pooling maximum réduit la dimension spatiale de l'image en conservant la valeur maximale dans chaque région de la fenêtre de pooling.\n",
    "\n",
    "4. `model.add(Conv2D(32, (4, 4), input_shape=(32, 32, 3), activation='relu'))` :\n",
    "   - Cette ligne ajoute une deuxième couche de convolution 2D au modèle. Elle suit le même modèle que la première couche, mais avec des paramètres distincts.\n",
    "\n",
    "5. `model.add(MaxPooling2D(pool_size=(2, 2))` :\n",
    "   - Cette ligne ajoute une deuxième couche de pooling maximum 2D au modèle, à la suite de la deuxième couche de convolution."
   ]
  },
  {
   "cell_type": "code",
   "execution_count": 25,
   "id": "31e5e296-3fdd-43cb-b138-83a161f1c138",
   "metadata": {},
   "outputs": [],
   "source": [
    "model = Sequential()\n",
    "model.add(Conv2D(32,(4,4),input_shape=(32,32,3),activation='relu'))\n",
    "model.add(MaxPooling2D(pool_size=(2,2)))\n",
    "model.add(Conv2D(32,(4,4),input_shape=(32,32,3),activation='relu'))\n",
    "model.add(MaxPooling2D(pool_size=(2,2)))"
   ]
  },
  {
   "cell_type": "markdown",
   "id": "1c0220c6-f923-4670-94d6-cbfc62aecedf",
   "metadata": {},
   "source": [
    "# Flatten\n",
    "```python\n",
    "model.add(Flatten())\n",
    "```\n",
    "\n",
    "- `Flatten()` : Cette ligne ajoute une couche de \"Flatten\" au modèle.\n",
    "   - La couche `Flatten` est utilisée pour aplatir les données en une seule dimension. Elle prend en entrée les données 2D ou 3D (comme les images) et les transforme en un vecteur 1D.\n",
    "   - Cette opération est couramment utilisée entre les couches de convolution et les couches complètement connectées (dense) dans un modèle de réseau de neurones. Elle permet de prendre les caractéristiques spatiales extraites par les couches de convolution et de les aplatir en un vecteur pour l'entrée des couches denses.\n",
    "   - Par exemple, si les données d'entrée sont des images de 32x32 pixels avec 3 canaux de couleur, la couche `Flatten` les transformera en un vecteur de 32 * 32 * 3 = 3072 éléments, qui sera ensuite passé aux couches denses du modèle.\n",
    "   - La couche `Flatten` n'a pas de paramètres à apprendre, elle effectue simplement une opération de réorganisation des données."
   ]
  },
  {
   "cell_type": "code",
   "execution_count": 26,
   "id": "55d8d884-20cf-4fc0-936f-9f06af7c6048",
   "metadata": {},
   "outputs": [],
   "source": [
    "model.add(Flatten())"
   ]
  },
  {
   "cell_type": "markdown",
   "id": "2dbbf226-0efc-4631-91d9-9878864a5e56",
   "metadata": {},
   "source": [
    "1. `model.add(Dense(128, activation='relu'))` :\n",
    "   - Cette ligne ajoute une couche dense (complètement connectée) au modèle.\n",
    "   - `Dense(128)` : Cela spécifie que la couche dense a 128 neurones (unités). Chaque neurone est complètement connecté à tous les neurones de la couche précédente.\n",
    "   - `activation='relu'` : C'est la fonction d'activation ReLU (Rectified Linear Unit) appliquée à chaque neurone de la couche. Le ReLU est couramment utilisé pour introduire une non-linéarité dans le modèle.\n",
    "\n",
    "2. `model.add(Dense(10, activation='softmax'))` :\n",
    "   - Cette ligne ajoute une autre couche dense au modèle.\n",
    "   - `Dense(10)` : Cela spécifie que la couche dense a 10 neurones. Dans ce cas, il est courant d'utiliser une couche dense de 10 neurones pour les problèmes de classification multiclasse, où il y a 10 classes distinctes.\n",
    "   - `activation='softmax'` : La fonction d'activation softmax est utilisée dans la couche de sortie d'un modèle de classification multiclasse. Elle transforme les valeurs de sortie en une distribution de probabilité sur les différentes classes, de telle sorte que la somme des probabilités soit égale à 1. Cela permet de prédire la classe la plus probable.\n",
    "\n",
    "Ces deux lignes de code ajoutent des couches complètement connectées à votre modèle de réseau de neurones après les couches de convolution et de pooling. La première couche dense a 128 neurones avec une fonction d'activation ReLU, tandis que la deuxième couche dense a 10 neurones avec une fonction d'activation softmax pour la classification multiclasse. Ces couches denses sont responsables de la prise des caractéristiques extraites précédemment par les couches de convolution et de générer des prédictions finales pour les classes cibles."
   ]
  },
  {
   "cell_type": "code",
   "execution_count": 27,
   "id": "9dfc1261-8bf1-4c27-919b-054d38ebbf0e",
   "metadata": {},
   "outputs": [],
   "source": [
    "model.add(Dense(128,activation='relu'))\n",
    "model.add(Dense(10,activation='softmax'))"
   ]
  },
  {
   "cell_type": "markdown",
   "id": "6cc6a3b6-f6c8-4c1f-9951-d40a52f488d8",
   "metadata": {},
   "source": [
    "```python\n",
    "model.compile(loss='categorical_crossentropy', optimizer='adam', metrics=['accuracy'])\n",
    "```\n",
    "\n",
    "- `model.compile` : Cette méthode est utilisée pour compiler le modèle de réseau de neurones avec les paramètres spécifiés. Lorsque vous compilez un modèle, vous définissez des aspects essentiels de l'entraînement du réseau.\n",
    "\n",
    "- `loss='categorical_crossentropy'` : Cela spécifie la fonction de perte (ou loss function) à utiliser pour évaluer la disparité entre les prédictions du modèle et les vraies étiquettes (labels). Dans ce cas, \"categorical_crossentropy\" est spécifiée, ce qui est couramment utilisé pour des problèmes de classification multiclasse. Cette fonction de perte est adaptée aux tâches où chaque échantillon d'entraînement peut appartenir à une seule classe parmi plusieurs classes.\n",
    "\n",
    "- `optimizer='adam'` : Cela spécifie l'optimiseur à utiliser pour ajuster les poids du modèle lors de l'entraînement. \"Adam\" est un optimiseur populaire et efficace qui s'adapte de manière adaptative aux taux d'apprentissage pour accélérer la convergence de l'entraînement.\n",
    "\n",
    "- `metrics=['accuracy']` : Cela spécifie les métriques (ou indicateurs de performance) à surveiller pendant l'entraînement du modèle. Dans ce cas, la métrique \"accuracy\" (précision) est utilisée pour évaluer la précision des prédictions du modèle par rapport aux étiquettes réelles."
   ]
  },
  {
   "cell_type": "markdown",
   "id": "f38871ce-4e98-4e62-8a12-baa1dba9e3e8",
   "metadata": {},
   "source": [
    "model.compile(loss='categorical_crossentropy',optimizer='adam',metrics=['accuracy'])"
   ]
  },
  {
   "cell_type": "markdown",
   "id": "b83b4013-7e53-4ffe-a042-77e04efbad22",
   "metadata": {},
   "source": [
    "La sortie de `model.summary()` fournit des informations sur l'architecture du modèle de réseau de neurones, en particulier sur les couches et le nombre de paramètres. Voici une explication de chaque partie de la sortie :\n",
    "\n",
    "- \"Model: \"sequential\"\" : Cela indique que le modèle est de type séquentiel, ce qui signifie que les couches sont empilées les unes sur les autres de manière séquentielle.\n",
    "\n",
    "- Les lignes commençant par \"Layer (type)\" décrivent les différentes couches du modèle, leur type et leur configuration. Voici ce que signifient les éléments dans chaque ligne :\n",
    "\n",
    "  - \"conv2d (Conv2D)\" : Il s'agit d'une couche de convolution 2D avec le nom \"conv2d\". Le type de la couche est \"Conv2D\". La couche utilise 32 filtres (ou noyaux) de taille (4, 4), ce qui est spécifié par \"Output Shape\". Cette couche a 1 568 paramètres à apprendre.\n",
    "\n",
    "  - \"max_pooling2d (MaxPooling2D)\" : Il s'agit d'une couche de pooling maximum 2D avec le nom \"max_pooling2d\". Le type de la couche est \"MaxPooling2D\". La couche effectue le pooling sur les données de sortie de la couche précédente. La forme de sortie est réduite à (14, 14, 32) après l'application de cette couche. Cette couche n'a pas de paramètres à apprendre.\n",
    "\n",
    "  - \"conv2d_1 (Conv2D)\" : C'est une deuxième couche de convolution 2D avec le nom \"conv2d_1\". Elle a 32 filtres de taille (4, 4) et 16 416 paramètres.\n",
    "\n",
    "  - \"max_pooling2d_1 (MaxPooling2D)\" : Il s'agit d'une deuxième couche de pooling maximum 2D avec le nom \"max_pooling2d_1\". Elle réduit la forme de sortie à (5, 5, 32) et n'a pas de paramètres à apprendre.\n",
    "\n",
    "  - \"flatten (Flatten)\" : C'est une couche de \"Flatten\" qui transforme les données en un vecteur 1D de longueur 800. Elle n'a pas de paramètres à apprendre.\n",
    "\n",
    "  - \"dense (Dense)\" : Cette couche dense (complètement connectée) a 128 neurones et 102 528 paramètres à apprendre.\n",
    "\n",
    "  - \"dense_1 (Dense)\" : C'est une autre couche dense avec 10 neurones, ce qui est typique pour la classification multiclasse. Elle a 1 290 paramètres.\n",
    "\n",
    "- \"Total params\" : Il s'agit du nombre total de paramètres dans le modèle. Dans ce cas, il y a un total de 121 802 paramètres à apprendre.\n",
    "\n",
    "- \"Trainable params\" : Il s'agit du nombre de paramètres que le modèle peut apprendre pendant l'entraînement. Dans ce modèle, tous les paramètres sont entraînables.\n",
    "\n",
    "- \"Non-trainable params\" : Il s'agit du nombre de paramètres qui ne sont pas modifiables pendant l'entraînement. Dans ce modèle, il n'y a aucun paramètre non entraînable.\n",
    "\n",
    "- \"Output Shape\" : Cela indique la forme de la sortie de chaque couche du modèle, en spécifiant les dimensions.\n",
    "\n",
    "Cette sortie est utile pour comprendre la complexité du modèle, le nombre de paramètres à entraîner et la structure des différentes couches. Elle peut également aider à identifier d'éventuels problèmes, tels que des couches avec un grand nombre de paramètres."
   ]
  },
  {
   "cell_type": "code",
   "execution_count": 30,
   "id": "a48c94b5-db1a-42ea-8a98-fd4dc89a37ca",
   "metadata": {},
   "outputs": [
    {
     "name": "stdout",
     "output_type": "stream",
     "text": [
      "Model: \"sequential\"\n",
      "_________________________________________________________________\n",
      " Layer (type)                Output Shape              Param #   \n",
      "=================================================================\n",
      " conv2d (Conv2D)             (None, 29, 29, 32)        1568      \n",
      "                                                                 \n",
      " max_pooling2d (MaxPooling2  (None, 14, 14, 32)        0         \n",
      " D)                                                              \n",
      "                                                                 \n",
      " conv2d_1 (Conv2D)           (None, 11, 11, 32)        16416     \n",
      "                                                                 \n",
      " max_pooling2d_1 (MaxPoolin  (None, 5, 5, 32)          0         \n",
      " g2D)                                                            \n",
      "                                                                 \n",
      " flatten (Flatten)           (None, 800)               0         \n",
      "                                                                 \n",
      " dense (Dense)               (None, 128)               102528    \n",
      "                                                                 \n",
      " dense_1 (Dense)             (None, 10)                1290      \n",
      "                                                                 \n",
      "=================================================================\n",
      "Total params: 121802 (475.79 KB)\n",
      "Trainable params: 121802 (475.79 KB)\n",
      "Non-trainable params: 0 (0.00 Byte)\n",
      "_________________________________________________________________\n"
     ]
    }
   ],
   "source": [
    "model.summary()"
   ]
  },
  {
   "cell_type": "markdown",
   "id": "946a31f4-9471-467b-b619-e3489fd36db6",
   "metadata": {},
   "source": [
    "# Entrainement du model\n",
    "Le code que vous avez fourni effectue l'entraînement d'un modèle de réseau de neurones à l'aide des données d'entraînement et de validation. Voici la documentation pour cette ligne de code :\n",
    "\n",
    "- `history = model.fit(x_train, y_train_en, epochs=20, verbose=1, validation_data=(x_test, y_test_en))` :\n",
    "   - `model.fit` : Cette méthode est utilisée pour entraîner un modèle de réseau de neurones. Elle prend en compte les données d'entraînement (`x_train` et `y_train_en`) et les paramètres spécifiés pour l'entraînement.\n",
    "\n",
    "   - `x_train` : C'est l'ensemble des données d'entraînement, généralement les caractéristiques (features) de l'ensemble d'apprentissage.\n",
    "\n",
    "   - `y_train_en` : C'est l'ensemble des étiquettes (labels) correspondant aux données d'entraînement. Les étiquettes sont généralement encodées en \"one-hot encoding\" pour la classification multiclasse.\n",
    "\n",
    "   - `epochs=20` : Cela spécifie le nombre d'itérations (epochs) d'entraînement. Dans cet exemple, le modèle sera entraîné pendant 20 epochs, ce qui signifie qu'il parcourra l'ensemble de données d'entraînement 20 fois pour ajuster les poids.\n",
    "\n",
    "   - `verbose=1` : C'est un indicateur de la verbosité de la sortie pendant l'entraînement. Lorsque `verbose=1`, il affiche des informations détaillées pendant l'entraînement, telles que la progression de l'apprentissage à chaque epoch.\n",
    "\n",
    "   - `validation_data=(x_test, y_test_en)` : Cela spécifie les données de validation à utiliser pour évaluer la performance du modèle pendant l'entraînement. Les données de test (`x_test` et `y_test_en`) sont utilisées pour évaluer le modèle à chaque epoch et calculer les métriques de validation.\n",
    "\n",
    "   - `history` : Cette variable stocke les informations d'entraînement telles que les valeurs de perte (loss) et les métriques à chaque epoch. Elle permet de suivre la performance du modèle au fil de l'entraînement."
   ]
  },
  {
   "cell_type": "code",
   "execution_count": 32,
   "id": "e0beb179-2c13-4d03-ab3e-f28f0c14db7e",
   "metadata": {},
   "outputs": [
    {
     "name": "stdout",
     "output_type": "stream",
     "text": [
      "Epoch 1/20\n",
      "1563/1563 [==============================] - 10s 6ms/step - loss: 1.4970 - accuracy: 0.4554 - val_loss: 1.3962 - val_accuracy: 0.5027\n",
      "Epoch 2/20\n",
      "1563/1563 [==============================] - 9s 6ms/step - loss: 1.1610 - accuracy: 0.5923 - val_loss: 1.1720 - val_accuracy: 0.5977\n",
      "Epoch 3/20\n",
      "1563/1563 [==============================] - 9s 6ms/step - loss: 1.0220 - accuracy: 0.6441 - val_loss: 1.0676 - val_accuracy: 0.6294\n",
      "Epoch 4/20\n",
      "1563/1563 [==============================] - 9s 6ms/step - loss: 0.9326 - accuracy: 0.6746 - val_loss: 0.9904 - val_accuracy: 0.6563\n",
      "Epoch 5/20\n",
      "1563/1563 [==============================] - 9s 6ms/step - loss: 0.8598 - accuracy: 0.6993 - val_loss: 0.9840 - val_accuracy: 0.6669\n",
      "Epoch 6/20\n",
      "1563/1563 [==============================] - 9s 6ms/step - loss: 0.7969 - accuracy: 0.7228 - val_loss: 0.9410 - val_accuracy: 0.6782\n",
      "Epoch 7/20\n",
      "1563/1563 [==============================] - 9s 6ms/step - loss: 0.7465 - accuracy: 0.7396 - val_loss: 0.9618 - val_accuracy: 0.6798\n",
      "Epoch 8/20\n",
      "1563/1563 [==============================] - 8s 5ms/step - loss: 0.6955 - accuracy: 0.7570 - val_loss: 0.9700 - val_accuracy: 0.6818\n",
      "Epoch 9/20\n",
      "1563/1563 [==============================] - 8s 5ms/step - loss: 0.6552 - accuracy: 0.7704 - val_loss: 0.9720 - val_accuracy: 0.6821\n",
      "Epoch 10/20\n",
      "1563/1563 [==============================] - 8s 5ms/step - loss: 0.6084 - accuracy: 0.7868 - val_loss: 0.9807 - val_accuracy: 0.6865\n",
      "Epoch 11/20\n",
      "1563/1563 [==============================] - 8s 5ms/step - loss: 0.5688 - accuracy: 0.7997 - val_loss: 0.9955 - val_accuracy: 0.6856\n",
      "Epoch 12/20\n",
      "1563/1563 [==============================] - 8s 5ms/step - loss: 0.5310 - accuracy: 0.8131 - val_loss: 1.0248 - val_accuracy: 0.6885\n",
      "Epoch 13/20\n",
      "1563/1563 [==============================] - 8s 5ms/step - loss: 0.4946 - accuracy: 0.8242 - val_loss: 1.0543 - val_accuracy: 0.6863\n",
      "Epoch 14/20\n",
      "1563/1563 [==============================] - 8s 5ms/step - loss: 0.4607 - accuracy: 0.8370 - val_loss: 1.1038 - val_accuracy: 0.6782\n",
      "Epoch 15/20\n",
      "1563/1563 [==============================] - 7s 5ms/step - loss: 0.4284 - accuracy: 0.8495 - val_loss: 1.1419 - val_accuracy: 0.6740\n",
      "Epoch 16/20\n",
      "1563/1563 [==============================] - 7s 5ms/step - loss: 0.4016 - accuracy: 0.8567 - val_loss: 1.1989 - val_accuracy: 0.6683\n",
      "Epoch 17/20\n",
      "1563/1563 [==============================] - 7s 5ms/step - loss: 0.3765 - accuracy: 0.8661 - val_loss: 1.2144 - val_accuracy: 0.6778\n",
      "Epoch 18/20\n",
      "1563/1563 [==============================] - 7s 5ms/step - loss: 0.3510 - accuracy: 0.8755 - val_loss: 1.2987 - val_accuracy: 0.6716\n",
      "Epoch 19/20\n",
      "1563/1563 [==============================] - 7s 5ms/step - loss: 0.3296 - accuracy: 0.8825 - val_loss: 1.3969 - val_accuracy: 0.6611\n",
      "Epoch 20/20\n",
      "1563/1563 [==============================] - 8s 5ms/step - loss: 0.3087 - accuracy: 0.8898 - val_loss: 1.4071 - val_accuracy: 0.6746\n"
     ]
    }
   ],
   "source": [
    "history = model.fit(x_train, y_train_en, epochs=20,verbose=1,validation_data=(x_test,y_test_en))"
   ]
  },
  {
   "cell_type": "code",
   "execution_count": null,
   "id": "d770b875-7f88-430b-a2da-cd4ba76f9232",
   "metadata": {},
   "outputs": [],
   "source": []
  },
  {
   "cell_type": "code",
   "execution_count": null,
   "id": "8d9c9a3d-abf3-4e3c-b1cc-580b50239831",
   "metadata": {},
   "outputs": [],
   "source": []
  },
  {
   "cell_type": "code",
   "execution_count": null,
   "id": "05ecb07e-1fad-4c63-a429-859658ea07b9",
   "metadata": {},
   "outputs": [],
   "source": []
  }
 ],
 "metadata": {
  "kernelspec": {
   "display_name": "Python 3 (ipykernel)",
   "language": "python",
   "name": "python3"
  },
  "language_info": {
   "codemirror_mode": {
    "name": "ipython",
    "version": 3
   },
   "file_extension": ".py",
   "mimetype": "text/x-python",
   "name": "python",
   "nbconvert_exporter": "python",
   "pygments_lexer": "ipython3",
   "version": "3.8.10"
  }
 },
 "nbformat": 4,
 "nbformat_minor": 5
}
